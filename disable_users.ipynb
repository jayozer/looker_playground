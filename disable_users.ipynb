{
 "cells": [
  {
   "cell_type": "code",
   "execution_count": null,
   "metadata": {},
   "outputs": [],
   "source": [
    "import looker_sdk\n",
    "import os"
   ]
  },
  {
   "cell_type": "code",
   "execution_count": null,
   "metadata": {},
   "outputs": [],
   "source": [
    "#looker.ini\n",
    "LOOKERSDK_BASE_URL=os.environ[\"LOOKERSDK_BASE_URL\"] \n",
    "LOOKERSDK_API_VERSION=os.environ[\"LOOKERSDK_API_VERSION\"] \n",
    "LOOKERSDK_VERIFY_SSL=os.environ[\"LOOKERSDK_VERIFY_SSL=\"]\n",
    "LOOKERSDK_TIMEOUT=os.environ[\"LOOKERSDK_TIMEOUT\"]\n",
    "\n",
    "LOOKERSDK_CLIENT_ID=os.environ[\"LOOKERSDK_CLIENT_ID\"] \n",
    "LOOKERSDK_CLIENT_SECRET=os.environ[\"LOOKERSDK_CLIENT_SECRET\"]"
   ]
  },
  {
   "cell_type": "code",
   "execution_count": null,
   "metadata": {},
   "outputs": [],
   "source": []
  },
  {
   "cell_type": "code",
   "execution_count": null,
   "metadata": {},
   "outputs": [],
   "source": []
  },
  {
   "cell_type": "code",
   "execution_count": null,
   "metadata": {},
   "outputs": [],
   "source": []
  }
 ],
 "metadata": {
  "language_info": {
   "name": "python"
  },
  "orig_nbformat": 4
 },
 "nbformat": 4,
 "nbformat_minor": 2
}
